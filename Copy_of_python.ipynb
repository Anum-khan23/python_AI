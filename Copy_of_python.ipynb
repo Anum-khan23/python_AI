{
  "nbformat": 4,
  "nbformat_minor": 0,
  "metadata": {
    "colab": {
      "provenance": [],
      "authorship_tag": "ABX9TyNMf/7y4fb8gcVgW3kCOkhz",
      "include_colab_link": true
    },
    "kernelspec": {
      "name": "python3",
      "display_name": "Python 3"
    },
    "language_info": {
      "name": "python"
    }
  },
  "cells": [
    {
      "cell_type": "markdown",
      "metadata": {
        "id": "view-in-github",
        "colab_type": "text"
      },
      "source": [
        "<a href=\"https://colab.research.google.com/github/Anum-khan23/python_AI/blob/main/Copy_of_python.ipynb\" target=\"_parent\"><img src=\"https://colab.research.google.com/assets/colab-badge.svg\" alt=\"Open In Colab\"/></a>"
      ]
    },
    {
      "cell_type": "markdown",
      "source": [
        "\n",
        "# **Python Data Types**\n",
        "\n",
        "\n",
        "---\n",
        "\n",
        "Data types determine the type of value a variable can hold and the operations that can be performed on it. They define the format, structure, size, range, and behavior of data, controlling how it's stored and used in a program. This helps ensure data is used correctly and efficiently."
      ],
      "metadata": {
        "id": "LTADpuW_QCPE"
      }
    },
    {
      "cell_type": "markdown",
      "source": [
        "**1. Numeric Types**\n",
        "\n",
        "Python has three main numeric types:\n",
        "\n",
        "**a. Integer (int)**\n",
        "\n",
        "Whole numbers, positive or negative, without decimals."
      ],
      "metadata": {
        "id": "Gkdha8ehSUGg"
      }
    },
    {
      "cell_type": "code",
      "source": [
        "num_int: int = 42\n",
        "\n",
        "print(type(num_int),\" num_int = \",num_int,)  # <class 'int'>"
      ],
      "metadata": {
        "colab": {
          "base_uri": "https://localhost:8080/"
        },
        "id": "mDMmFiRcSeXk",
        "outputId": "e97a86f3-4618-4317-9a0b-9cf5bbfe235c"
      },
      "execution_count": null,
      "outputs": [
        {
          "output_type": "stream",
          "name": "stdout",
          "text": [
            "<class 'int'>  num_int =  42\n"
          ]
        }
      ]
    },
    {
      "cell_type": "markdown",
      "source": [
        "**b. Floating-Point (float)**\n",
        "\n",
        "Numbers with decimal points."
      ],
      "metadata": {
        "id": "YlUg0vl1Sl1R"
      }
    },
    {
      "cell_type": "code",
      "source": [
        "num_float: float = 3.14\n",
        "#num_float: float = .14\n",
        "\n",
        "print(type(num_float), \" num_float = \", num_float)  # <class 'float'>"
      ],
      "metadata": {
        "colab": {
          "base_uri": "https://localhost:8080/"
        },
        "id": "uBaMUnw4Sp6-",
        "outputId": "64a3289b-c00a-493b-8167-12e27328f093"
      },
      "execution_count": null,
      "outputs": [
        {
          "output_type": "stream",
          "name": "stdout",
          "text": [
            "<class 'float'>  num_float =  3.14\n"
          ]
        }
      ]
    },
    {
      "cell_type": "markdown",
      "source": [
        "**c. Complex (complex)**\n",
        "\n",
        "Numbers with a real and imaginary part."
      ],
      "metadata": {
        "id": "3WvrijQ3SwU0"
      }
    },
    {
      "cell_type": "code",
      "source": [
        "num_complex: complex = 2 + 3j\n",
        "\n",
        "print(type(num_complex), \" num_complex = \", num_complex)  # <class 'complex'>"
      ],
      "metadata": {
        "colab": {
          "base_uri": "https://localhost:8080/"
        },
        "id": "5lvfs_9KSyQ9",
        "outputId": "447c8895-7f2d-443a-bdf6-b74ffbc3fd9e"
      },
      "execution_count": null,
      "outputs": [
        {
          "output_type": "stream",
          "name": "stdout",
          "text": [
            "<class 'complex'>  num_complex =  (2+3j)\n"
          ]
        }
      ]
    },
    {
      "cell_type": "markdown",
      "source": [
        "**2. Boolean (bool)**\n",
        "\n",
        "Represents True or False."
      ],
      "metadata": {
        "id": "ZYDCUNRDS7Ej"
      }
    },
    {
      "cell_type": "code",
      "source": [
        "is_python_fun: bool = True #False\n",
        "\n",
        "print(type(is_python_fun), \" is_python_fun = \", is_python_fun)  # <class 'bool'>"
      ],
      "metadata": {
        "id": "3QshSXPPS99A"
      },
      "execution_count": null,
      "outputs": []
    },
    {
      "cell_type": "markdown",
      "source": [
        "**3. Sequence Types**\n",
        "\n",
        "These store multiple items in an ordered way.\n",
        "\n",
        "**a. String (str)**\n",
        "\n",
        "A sequence of characters enclosed in quotes."
      ],
      "metadata": {
        "id": "_R-a_FYLTN-w"
      }
    },
    {
      "cell_type": "code",
      "source": [
        "\n",
        "my_string: str = \"Hello, world!\"\n",
        "\n",
        "print(type(my_string), \" my_string = \", my_string)\n"
      ],
      "metadata": {
        "colab": {
          "base_uri": "https://localhost:8080/"
        },
        "id": "B1EqkxkETSHI",
        "outputId": "64472be7-2169-498e-bf98-f617d414a36d"
      },
      "execution_count": null,
      "outputs": [
        {
          "output_type": "stream",
          "name": "stdout",
          "text": [
            "<class 'str'>  my_string =  Hello, world!\n"
          ]
        }
      ]
    },
    {
      "cell_type": "markdown",
      "source": [
        "**Key Takeaways**\n",
        "\n",
        "Double Quotes (\"): Use when the string contains single quotes.\n",
        "Single Quotes ('): Use when the string contains double quotes.\n",
        "Triple Quotes (''' or \"\"\"): Use for multi-line strings or docstrings.\n",
        "\n",
        "Understanding these variations allows you to write cleaner, more readable, and error-free code. As you progress in Python, you’ll find that strings are incredibly powerful, especially when combined with string methods, formatting, and manipulation techniques.\n",
        "\n",
        "\n",
        "**b. List (list)**\n",
        "\n",
        "An ordered, mutable collection."
      ],
      "metadata": {
        "id": "5hG3L0OYTlUQ"
      }
    },
    {
      "cell_type": "code",
      "source": [
        "# prompt:  List (list)\n",
        "# An ordered, mutable collection. make it simple\n",
        "\n",
        "# List example\n",
        "my_list: list = [1, 2, 3, \"a\", \"b\", \"c\", True, False]\n",
        "\n",
        "print(type(my_list), \" my_list = \", my_list)\n",
        "\n",
        "# Accessing elements (zero-based indexing)\n",
        "print(\"First element:\", my_list[0])  # Output: 1\n",
        "print(\"Last element:\", my_list[-1]) # Output: False\n",
        "\n",
        "# Modifying elements\n",
        "my_list[0] = 10\n",
        "print(\"Modified list:\", my_list)\n",
        "\n",
        "# Adding elements\n",
        "my_list.append(4)\n",
        "my_list.insert(2, 2.5)  # Insert 2.5 at index 2\n",
        "print(\"List after additions:\", my_list)\n",
        "\n",
        "# Removing elements\n",
        "my_list.remove(\"a\")  # Remove the first occurrence of \"a\"\n",
        "del my_list[3]      # Remove element at index 3\n",
        "print(\"List after removals:\", my_list)\n",
        "\n",
        "\n",
        "# List slicing\n",
        "sliced_list = my_list[1:4]  # Elements from index 1 up to (but not including) 4\n",
        "print(\"Sliced list:\", sliced_list)\n",
        "\n",
        "# List operations\n",
        "print(\"Length of list:\", len(my_list))\n",
        "print(\"Element 'b' in list:\", \"b\" in my_list)\n"
      ],
      "metadata": {
        "colab": {
          "base_uri": "https://localhost:8080/"
        },
        "id": "6ApYKG3FTtOK",
        "outputId": "d8327587-31ce-4e63-afb2-6087bd7b9ba0"
      },
      "execution_count": null,
      "outputs": [
        {
          "output_type": "stream",
          "name": "stdout",
          "text": [
            "<class 'list'>  my_list =  [1, 2, 3, 'a', 'b', 'c', True, False]\n",
            "First element: 1\n",
            "Last element: False\n",
            "Modified list: [10, 2, 3, 'a', 'b', 'c', True, False]\n",
            "List after additions: [10, 2, 2.5, 3, 'a', 'b', 'c', True, False, 4]\n",
            "List after removals: [10, 2, 2.5, 'b', 'c', True, False, 4]\n",
            "Sliced list: [2, 2.5, 'b']\n",
            "Length of list: 8\n",
            "Element 'b' in list: True\n"
          ]
        }
      ]
    },
    {
      "cell_type": "markdown",
      "source": [
        "**c. Tuple (tuple)**\n",
        "\n",
        "An ordered, immutable collection."
      ],
      "metadata": {
        "id": "M7HLl8-BT-vW"
      }
    },
    {
      "cell_type": "code",
      "source": [
        "# prompt: c. Tuple (tuple)\n",
        "# An ordered, immutable collection.\n",
        "\n",
        "# Tuple example\n",
        "my_tuple: tuple = (1, 2, 3, \"a\", \"b\", \"c\", True, False)\n",
        "\n",
        "print(type(my_tuple), \" my_tuple = \", my_tuple)\n",
        "\n",
        "# Accessing elements (zero-based indexing)\n",
        "print(\"First element:\", my_tuple[0])  # Output: 1\n",
        "print(\"Last element:\", my_tuple[-1]) # Output: False\n",
        "\n",
        "# Tuple elements cannot be modified (immutable)\n",
        "# my_tuple[0] = 10  # This will raise a TypeError\n",
        "\n",
        "# Tuple operations\n",
        "print(\"Length of tuple:\", len(my_tuple))\n",
        "print(\"Element 'b' in tuple:\", \"b\" in my_tuple)\n",
        "\n",
        "# Tuple slicing\n",
        "sliced_tuple = my_tuple[1:4]  # Elements from index 1 up to (but not including) 4\n",
        "print(\"Sliced tuple:\", sliced_tuple)\n"
      ],
      "metadata": {
        "colab": {
          "base_uri": "https://localhost:8080/"
        },
        "id": "dvexc-zPUC6D",
        "outputId": "015f6d0b-6d9e-44a3-9c3e-916865679627"
      },
      "execution_count": null,
      "outputs": [
        {
          "output_type": "stream",
          "name": "stdout",
          "text": [
            "<class 'tuple'>  my_tuple =  (1, 2, 3, 'a', 'b', 'c', True, False)\n",
            "First element: 1\n",
            "Last element: False\n",
            "Length of tuple: 8\n",
            "Element 'b' in tuple: True\n",
            "Sliced tuple: (2, 3, 'a')\n"
          ]
        }
      ]
    },
    {
      "cell_type": "markdown",
      "source": [
        "**d. Range (range)**\n",
        "\n",
        "Represents a sequence of numbers."
      ],
      "metadata": {
        "id": "f9SXhdUnUPZp"
      }
    },
    {
      "cell_type": "code",
      "source": [
        "num_range: range = range(1, 10, 2) # range(start, stop, step)\n",
        "print(type(num_range), \" num_range = \", num_range.step)  # <class 'range'>"
      ],
      "metadata": {
        "colab": {
          "base_uri": "https://localhost:8080/"
        },
        "id": "TWsM7wT7UWJE",
        "outputId": "d2fd8853-ed82-4a83-b2df-508a8b1c40b0"
      },
      "execution_count": null,
      "outputs": [
        {
          "output_type": "stream",
          "name": "stdout",
          "text": [
            "<class 'range'>  num_range =  2\n"
          ]
        }
      ]
    },
    {
      "cell_type": "code",
      "source": [
        "for i in range(1, 10, 2): # we will study loops indepth in classes ahead\n",
        "  print(i)"
      ],
      "metadata": {
        "colab": {
          "base_uri": "https://localhost:8080/"
        },
        "id": "xP5N3gxgUZG_",
        "outputId": "50927c52-cab4-4f16-a7e7-fb2d1ede16e9"
      },
      "execution_count": null,
      "outputs": [
        {
          "output_type": "stream",
          "name": "stdout",
          "text": [
            "1\n",
            "3\n",
            "5\n",
            "7\n",
            "9\n"
          ]
        }
      ]
    },
    {
      "cell_type": "markdown",
      "source": [
        "**4. Set Types**\n",
        "\n",
        "(We will cover this indepth in classes ahead)\n",
        "\n",
        "Unordered collections with unique elements.\n",
        "\n",
        "**a. Set (set)**\n",
        "\n",
        "Mutable, unordered, and contains unique values."
      ],
      "metadata": {
        "id": "jLX5JyzaUexc"
      }
    },
    {
      "cell_type": "code",
      "source": [
        "my_set: set = {1, 2, 33, 4, 4, 5}\n",
        "print(type(my_set), \"my_set = \", my_set)  # <class 'set'>"
      ],
      "metadata": {
        "colab": {
          "base_uri": "https://localhost:8080/"
        },
        "id": "Bq8UJRPGUmur",
        "outputId": "d2eca91b-fb3e-4fd1-fedc-02b3a4a8f850"
      },
      "execution_count": null,
      "outputs": [
        {
          "output_type": "stream",
          "name": "stdout",
          "text": [
            "<class 'set'> my_set =  {1, 2, 33, 4, 5}\n"
          ]
        }
      ]
    },
    {
      "cell_type": "markdown",
      "source": [
        "**b. Frozen Set (frozenset)**\n",
        "\n",
        "Immutable version of a set."
      ],
      "metadata": {
        "id": "GcP-zoErUqF4"
      }
    },
    {
      "cell_type": "code",
      "source": [
        "frozen_set = frozenset([11, 2, 3, 4, 4, 5])\n",
        "#frozen_set = frozenset(my_set)\n",
        "print(type(frozen_set), \" frozen_set = \", frozen_set)  # <class 'frozenset'>"
      ],
      "metadata": {
        "colab": {
          "base_uri": "https://localhost:8080/"
        },
        "id": "uT28GLNJUvDl",
        "outputId": "face91c8-93e5-4556-f0ba-3857d5f3b03a"
      },
      "execution_count": null,
      "outputs": [
        {
          "output_type": "stream",
          "name": "stdout",
          "text": [
            "<class 'frozenset'>  frozen_set =  frozenset({2, 3, 4, 5, 11})\n"
          ]
        }
      ]
    },
    {
      "cell_type": "markdown",
      "source": [
        "5**. Mapping Type**\n",
        "\n",
        "Dictionary (dict) Stores key-value pairs."
      ],
      "metadata": {
        "id": "jMmMYAMaUxGN"
      }
    },
    {
      "cell_type": "code",
      "source": [
        "my_dict: dict = {\"name\": \"Alice\", \"age\": 25, \"language\": \"Python\"}\n",
        "print(type(my_dict),\" my_dict = \", my_dict )  # <class 'dict'>"
      ],
      "metadata": {
        "colab": {
          "base_uri": "https://localhost:8080/"
        },
        "id": "HZn7u8jBU17C",
        "outputId": "27c5e40d-1fa7-4b76-8426-fa7ab5818bf7"
      },
      "execution_count": null,
      "outputs": [
        {
          "output_type": "stream",
          "name": "stdout",
          "text": [
            "<class 'dict'>  my_dict =  {'name': 'Alice', 'age': 25, 'language': 'Python'}\n"
          ]
        }
      ]
    },
    {
      "cell_type": "markdown",
      "source": [
        "**6. Binary Types**\n",
        "\n",
        "In Python, binary types are used to handle binary data, such as raw bytes, binary files, or data exchanged over networks. Binary types are distinct from text types (str) and are specifically designed to represent and manipulate sequences of bytes. Python provides three built-in binary types:\n",
        "\n",
        "\n",
        "**a. Bytes (bytes)**\n",
        "\n",
        "Definition: An immutable sequence of bytes.\n",
        "\n",
        "Purpose: Used to represent binary data, such as byte sequences coming from files, network communications, or raw data.\n",
        "\n",
        "3.  **Key Points**\n",
        "* A bytes object is immutable, meaning you cannot modify its content after creation.\n",
        "    * It is often used when you need to work with fixed binary data.\n",
        "    * Literal syntax: b\"...\" or b'...'.\n",
        "\n"
      ],
      "metadata": {
        "id": "_bmq3dQVVIgd"
      }
    },
    {
      "cell_type": "code",
      "source": [
        "byte_data: bytes = b\"Hello\"\n",
        "print(type(byte_data), \" byte_data = \", byte_data)  # <class 'bytes'>"
      ],
      "metadata": {
        "colab": {
          "base_uri": "https://localhost:8080/"
        },
        "id": "RtV6-KfpVorg",
        "outputId": "1f039eb2-1e91-4da8-a529-93418da7ac01"
      },
      "execution_count": null,
      "outputs": [
        {
          "output_type": "stream",
          "name": "stdout",
          "text": [
            "<class 'bytes'>  byte_data =  b'Hello'\n"
          ]
        }
      ]
    },
    {
      "cell_type": "markdown",
      "source": [
        "**Its just an example to give you feel about how to work with binary data.\n",
        "**\n",
        "\n",
        " `We will learn more about file handling in classes ahead.`"
      ],
      "metadata": {
        "id": "d8phYlHlVsW5"
      }
    },
    {
      "cell_type": "code",
      "source": [
        "# with open(\"Apollo11.jpg\", \"rb\") as source_file:\n",
        "#     data = source_file.read()\n",
        "\n",
        "# # Write the binary data to a new image file\n",
        "# with open(\"copy.jpg\", \"wb\") as target_file:\n",
        "#     target_file.write(data)\n",
        "\n",
        "print(\"Image copied successfully!\")"
      ],
      "metadata": {
        "id": "aan6rzZOWbxr"
      },
      "execution_count": null,
      "outputs": []
    },
    {
      "cell_type": "markdown",
      "source": [
        "**Bytearray (bytearray)**\n",
        "\n",
        "Definition: A mutable sequence of bytes.\n",
        "\n",
        "Purpose: Like bytes, but allows modification of its content.\n",
        "\n",
        "**Key Points:**\n",
        "\n",
        "\n",
        "You can modify the content of a bytearray object in place.\n",
        "Suitable for cases where you need to update or manipulate binary data frequently.\n",
        "Literal syntax: Does not have direct literal syntax (must use bytearray() constructor)."
      ],
      "metadata": {
        "id": "MpY7lhZBWowd"
      }
    },
    {
      "cell_type": "markdown",
      "source": [
        "## **Number Systems**\n",
        "\n",
        "* **ASCII**:\n",
        "\n",
        "  The American Standard Code for Information Interchange (ASCII) is a character encoding standard that represents text in computers using numeric codes. It maps 128 characters (letters, digits, punctuation, and control characters) to values from 0 to 127.\n",
        "\n",
        "* **Decimal**:\n",
        "\n",
        "  The decimal system is the standard numerical system used in everyday life, based on 10 digits (0 through 9). It's a base-10 system, where each digit's position represents a power of 10.\n",
        "\n",
        "* **Hexadecimal**:\n",
        "\n",
        "  The hexadecimal system is a base-16 numbering system, using 16 symbols: 0–9 to represent values 0 to 9, and A–F (or a–f) to represent values 10 to 15. It's widely used in computing for compact representation of binary data.\n",
        "\n",
        "* **Octal**:\n",
        "\n",
        "  The octal system is a base-8 numbering system, using digits 0 through 7. It was more commonly used in older computer systems and is still occasionally used in modern computing, especially for file permissions in Unix/Linux.\n",
        "\n",
        "* **Binary**:\n",
        "\n",
        "  The binary system is a base-2 numbering system that uses only two digits: 0 and 1. It's the fundamental language of computers, where each binary digit (bit) represents a state of off or on.\n",
        "\n",
        "<br>\n",
        "\n",
        "### **What is a Base in Number Systems?**\n",
        "\n",
        "A base (or radix) in a number system refers to the number of **`unique digits`** (including zero) used to represent numbers. It defines how place values are assigned to digits in a numeral.\n",
        "\n",
        "<br>\n",
        "\n",
        "[ASCII, decimal, hexadecimal, octal, and binary conversion table](https://www.ascii-code.com/ASCII)"
      ],
      "metadata": {
        "id": "kgWB4rAsW3W2"
      }
    },
    {
      "cell_type": "code",
      "source": [
        "byte_array: bytearray = bytearray([65, 66, 67, 69]) #65=A, 66=B ....decimal number system\n",
        "print(type(byte_array), \" byte_array = \", byte_array)  # <class 'bytearray'>\n",
        "print(byte_array[0])\n",
        "print(chr(byte_array[0]))\n",
        "print(\"Empty bytearray(): \",bytearray())"
      ],
      "metadata": {
        "colab": {
          "base_uri": "https://localhost:8080/"
        },
        "id": "Y4_3YB9WXIvS",
        "outputId": "d788ccdc-8e77-485d-abdd-3f987acb6a2a"
      },
      "execution_count": null,
      "outputs": [
        {
          "output_type": "stream",
          "name": "stdout",
          "text": [
            "<class 'bytearray'>  byte_array =  bytearray(b'ABCE')\n",
            "65\n",
            "A\n",
            "Empty bytearray():  bytearray(b'')\n"
          ]
        }
      ]
    },
    {
      "cell_type": "markdown",
      "source": [
        "**What is UTF-8?**\n",
        "\n",
        "UTF-8 (8-bit Unicode Transformation Format) is a variable-length character encoding that can represent every character in the Unicode standard. It is designed for efficiency and compatibility:"
      ],
      "metadata": {
        "id": "AQY1z9OkXOoT"
      }
    },
    {
      "cell_type": "code",
      "source": [
        "byte_array: bytearray = bytearray([65, 66, 67, 69])\n",
        "# Converting the entire bytearray to a string using decode()\n",
        "print(\"Decoded string: \", byte_array.decode('utf-8'))  # Output: ABCE"
      ],
      "metadata": {
        "colab": {
          "base_uri": "https://localhost:8080/"
        },
        "id": "q38D5o1aXTWa",
        "outputId": "16425445-5109-4f4e-953b-1aaa4c48e401"
      },
      "execution_count": null,
      "outputs": [
        {
          "output_type": "stream",
          "name": "stdout",
          "text": [
            "Decoded string:  ABCE\n"
          ]
        }
      ]
    },
    {
      "cell_type": "code",
      "source": [
        "# Creating a bytearray object\n",
        "ba: bytearray = bytearray(b\"hello\")\n",
        "print(\"Before: ba = \", ba)\n",
        "\n",
        "# Modifying the bytearray\n",
        "ba[0] = 72  # ASCII value of 'H'\n",
        "\n",
        "print(\"After: ba = \",ba)  # Output: bytearray(b'Hello')"
      ],
      "metadata": {
        "colab": {
          "base_uri": "https://localhost:8080/"
        },
        "id": "Ihtk5i6jXZn5",
        "outputId": "c4c0a153-cb29-43d8-ba47-71971c2bea92"
      },
      "execution_count": null,
      "outputs": [
        {
          "output_type": "stream",
          "name": "stdout",
          "text": [
            "Before: ba =  bytearray(b'hello')\n",
            "After: ba =  bytearray(b'Hello')\n"
          ]
        }
      ]
    },
    {
      "cell_type": "markdown",
      "source": [
        "## c. Memoryview (memoryview)\n",
        "\n",
        "The memoryview object in Python provides an efficient way to work with binary data by allowing you to access and manipulate the memory of another object (like bytes or bytearray) without copying the data. This is particularly useful when working with large datasets or binary streams, as it avoids the overhead of creating additional copies."
      ],
      "metadata": {
        "id": "1UhVzjGFXe4k"
      }
    },
    {
      "cell_type": "code",
      "source": [
        "mem_view: memoryview = memoryview(b\"Operation Badar\")\n",
        "print(type(mem_view), \" mem_view = \", mem_view)  # <class 'memoryview'>\n",
        "print(bytes(mem_view[0:5]))\n",
        "print( mem_view[6:11] ) #cast it to byte otherwise it will show memory address"
      ],
      "metadata": {
        "colab": {
          "base_uri": "https://localhost:8080/"
        },
        "id": "3C3OTTLQXgao",
        "outputId": "c5eec0b7-a641-4df2-ea67-4a3519423116"
      },
      "execution_count": null,
      "outputs": [
        {
          "output_type": "stream",
          "name": "stdout",
          "text": [
            "<class 'memoryview'>  mem_view =  <memory at 0x7c8855aef4c0>\n",
            "b'Opera'\n",
            "<memory at 0x7c8855aef340>\n"
          ]
        }
      ]
    },
    {
      "cell_type": "markdown",
      "source": [
        "**None Data Type in Python**\n",
        "\n",
        "In Python, None is a special data type that represents the absence of a value or a null object reference. It is a singleton object, meaning that there is only one instance of None in the entire Python environment.\n",
        "\n",
        "No value: None represents the absence of a value or a null object reference."
      ],
      "metadata": {
        "id": "UEApJvzUXljE"
      }
    },
    {
      "cell_type": "code",
      "source": [
        "x: str = None\n",
        "y: str = None\n",
        "z: str = x\n",
        "\n",
        "#display the data type of x:\n",
        "print(type(x))\n",
        "print(\"value of x = \" + str(x) )\n",
        "print(\"x == y = \", x == y)\n",
        "print(\"id(x) = \", id(x))\n",
        "print(\"id(y) = \", id(y))\n",
        "print(\"id(z) = \", id(z))\n",
        "print(\"x is y = \", x is y)\n",
        "print(\"x is z = \", x is z)\n",
        "print(\"id(x) is id(z) = \", id(x) is id(z)) # False :( why? you will get the answer in topic 'Integer Literals in Python'\n",
        "print(\"id(x) == id(z) = \", id(x) == id(z)) # True\n",
        "'''\n",
        "In Python, `==` is the equality operator, which checks if the values of two objects are equal.\n",
        "On the other hand, `is` is the identity operator, which checks if two objects are the same object in memory.\n",
        "'''"
      ],
      "metadata": {
        "colab": {
          "base_uri": "https://localhost:8080/",
          "height": 226
        },
        "id": "lLcb31ilXq-Y",
        "outputId": "674d7d70-0d65-4adf-c70e-976596ace716"
      },
      "execution_count": null,
      "outputs": [
        {
          "output_type": "stream",
          "name": "stdout",
          "text": [
            "<class 'NoneType'>\n",
            "value of x = None\n",
            "x == y =  True\n",
            "id(x) =  9691392\n",
            "id(y) =  9691392\n",
            "id(z) =  9691392\n",
            "x is y =  True\n",
            "x is z =  True\n",
            "id(x) is id(z) =  False\n",
            "id(x) == id(z) =  True\n"
          ]
        },
        {
          "output_type": "execute_result",
          "data": {
            "text/plain": [
              "'\\nIn Python, `==` is the equality operator, which checks if the values of two objects are equal.\\nOn the other hand, `is` is the identity operator, which checks if two objects are the same object in memory.\\n'"
            ],
            "application/vnd.google.colaboratory.intrinsic+json": {
              "type": "string"
            }
          },
          "metadata": {},
          "execution_count": 23
        }
      ]
    },
    {
      "cell_type": "code",
      "source": [
        "print(\"None is None            = \", None is None) # True\n",
        "print(\"None == None            = \", None == None) # True\n",
        "print(\"None == x               = \", None == x)\n",
        "print(\"None is x               = \", None is x)\n",
        "print(\"id(None) is id(None)    = \", id(None) is id(None))\n",
        " # 'is' check memory space sharing\n",
        "#If number is out of integer literal range -5 to 256 then even the same number are considered as seprate object"
      ],
      "metadata": {
        "colab": {
          "base_uri": "https://localhost:8080/"
        },
        "id": "NXWgQBwaX33z",
        "outputId": "20ba10ec-5fa0-4255-e44e-e003a3d635c6"
      },
      "execution_count": null,
      "outputs": [
        {
          "metadata": {
            "tags": null
          },
          "name": "stdout",
          "output_type": "stream",
          "text": [
            "None is None            =  True\n",
            "None == None            =  True\n",
            "None == x               =  True\n",
            "None is x               =  True\n",
            "id(None) is id(None)    =  False\n"
          ]
        }
      ]
    },
    {
      "cell_type": "markdown",
      "source": [
        "**id() Function in Python**\n",
        "==========================\n",
        "\n",
        "The `id()` function in Python returns the `unique identifier` for an `object`. This identifier is a small integer that is unique among all objects currently in existence of your python environment.\n",
        "\n",
        "**What is the Purpose of id()**\n",
        "-----------------------------\n",
        "\n",
        "The `id()` function is used to:\n",
        "\n",
        "* **Identify objects**: The `id()` function returns a `unique identifier` that can be used to identify objects in memory.\n",
        "* **Check object equality**: By checking the `id()` of two objects, you can determine if they are the `same object in memory`.\n",
        "* **Debugging**: The `id()` function can be useful for debugging purposes, such as identifying which object is being referenced by a variable."
      ],
      "metadata": {
        "id": "tOVUgki_X_Hc"
      }
    },
    {
      "cell_type": "code",
      "source": [
        "print(\"\"\"Variable x, y & z have 'None' value, as we know that 'None' is a singleton object,\n",
        "meaning that there is only one instance of `None` in the entire Python environment.\n",
        "So the id(x), id(y) & id(z) represents the same object id in memory.\\n\"\"\")\n",
        "\n",
        "x: str = None\n",
        "y: str = None\n",
        "z: str = x\n",
        "\n",
        "print(\"ID of variable x  = \" + str(id(x)))\n",
        "print(\"ID of variable y  = \" + str(id(y)))\n",
        "print(\"ID of variable z  = \" + str(id(z)))\n",
        "\n",
        "print(\"\\nIs variable x & y shares the same memory space? \\nThe answer is: \" + str(id(x) == id(y)))"
      ],
      "metadata": {
        "colab": {
          "base_uri": "https://localhost:8080/"
        },
        "id": "m8Us2kDPYHbE",
        "outputId": "2457e4c1-9563-471e-92f7-6240b1789a90"
      },
      "execution_count": null,
      "outputs": [
        {
          "output_type": "stream",
          "name": "stdout",
          "text": [
            "Variable x, y & z have 'None' value, as we know that 'None' is a singleton object,\n",
            "meaning that there is only one instance of `None` in the entire Python environment.\n",
            "So the id(x), id(y) & id(z) represents the same object id in memory.\n",
            "\n",
            "ID of variable x  = 9691392\n",
            "ID of variable y  = 9691392\n",
            "ID of variable z  = 9691392\n",
            "\n",
            "Is variable x & y shares the same memory space? \n",
            "The answer is: True\n"
          ]
        }
      ]
    },
    {
      "cell_type": "markdown",
      "source": [
        "**False in a boolean context**: `None` is considered `False` in a boolean context, meaning that it can be used in conditional statements."
      ],
      "metadata": {
        "id": "DgPZcmYFYNTD"
      }
    },
    {
      "cell_type": "code",
      "source": [
        "if(None):\n",
        "  print(\"if block: This line of code will not execute because in Python 'None' is considered False\")\n",
        "else:\n",
        "  print(\"else block: As None is considered False, so this line of code will execute\")\n"
      ],
      "metadata": {
        "colab": {
          "base_uri": "https://localhost:8080/"
        },
        "id": "G4D2MGykYSs3",
        "outputId": "09d8e039-dd3c-47d1-e62e-51883c8fec97"
      },
      "execution_count": null,
      "outputs": [
        {
          "output_type": "stream",
          "name": "stdout",
          "text": [
            "else block: As None is considered False, so this line of code will execute\n"
          ]
        }
      ]
    },
    {
      "cell_type": "markdown",
      "source": [
        "**Integer Literals in Python**\n",
        "\n",
        "In Python, an integer literal is a sequence of characters that represents an integer value. Integer literals are used to define integer constants in Python code.\n",
        "\n",
        "**Memory Space Sharing**\n",
        "\n",
        "In Python, integer literals can share the same memory space under certain conditions. This is due to a process called interning, where Python stores a pool of interned objects that can be reused when the same value is needed again.\n",
        "\n",
        "Lets assign value to variable x, y & z"
      ],
      "metadata": {
        "id": "VOwXu8Y8YWkV"
      }
    },
    {
      "cell_type": "code",
      "source": [
        "x: int = 1\n",
        "y: int = 1\n",
        "z: int = x\n",
        "\n",
        "print(\"Value of x = \" + str(x) + \", and id(x) = \" + str(id(x))) # when you need to concatinate any thing with string you need to first cast it to str()\n",
        "print(\"Value of y = \" + str(y) + \", and id(y) = \" + str(id(y)))\n",
        "print(\"Value of z = \" + str(z) + \", and id(z) = \" + str(id(z)))\n",
        "print(\"id(x) == id(y) = \", id(x) == id(y) )\n",
        "print(\"id(x) is id(y) = \", id(x) is id(y) ) # ;)"
      ],
      "metadata": {
        "colab": {
          "base_uri": "https://localhost:8080/"
        },
        "id": "bDhJYuO3Ydxo",
        "outputId": "f01e9ef5-ec65-419e-e573-bf3287248e39"
      },
      "execution_count": null,
      "outputs": [
        {
          "output_type": "stream",
          "name": "stdout",
          "text": [
            "Value of x = 1, and id(x) = 10750856\n",
            "Value of y = 1, and id(y) = 10750856\n",
            "Value of z = 1, and id(z) = 10750856\n",
            "id(x) == id(y) =  True\n",
            "id(x) is id(y) =  False\n"
          ]
        }
      ]
    },
    {
      "cell_type": "markdown",
      "source": [
        "**Integer Interning in Python**\n",
        "\n",
        "In Python, integers in the range -5 to 256 are interned, meaning that they are stored in a pool of interned objects. This means that when you create an integer literal within this range, Python returns a reference to the existing object in the pool."
      ],
      "metadata": {
        "id": "yHQG9L5wYhdp"
      }
    },
    {
      "cell_type": "code",
      "source": [
        "x = -6\n",
        "y = -6\n",
        "z = x\n",
        "\n",
        "print(\"Value of x = \" + str(x) + \", and id(x) = \" + str(id(x)))\n",
        "print(\"Value of y = \" + str(y) + \", and id(y) = \" + str(id(y)))\n",
        "print(\"Value of z = \" + str(z) + \", and id(z) = \" + str(id(z)))\n",
        "\n",
        "print(\"\\n ===================== \\n\")\n",
        "\n",
        "a = 257\n",
        "b = 257\n",
        "c = a\n",
        "\n",
        "print(\"Value of x = \" + str(a) + \", and id(a) = \" + str(id(a)))\n",
        "print(\"Value of y = \" + str(b) + \", and id(b) = \" + str(id(b)))\n",
        "print(\"Value of z = \" + str(c) + \", and id(c) = \" + str(id(c)))"
      ],
      "metadata": {
        "colab": {
          "base_uri": "https://localhost:8080/"
        },
        "id": "CDnUfLi5Yp9w",
        "outputId": "9d36956c-178c-40a6-fa4d-5fe9a6985b55"
      },
      "execution_count": null,
      "outputs": [
        {
          "output_type": "stream",
          "name": "stdout",
          "text": [
            "Value of x = -6, and id(x) = 136924994566288\n",
            "Value of y = -6, and id(y) = 136924994566128\n",
            "Value of z = -6, and id(z) = 136924994566288\n",
            "\n",
            " ===================== \n",
            "\n",
            "Value of x = 257, and id(a) = 136924994563568\n",
            "Value of y = 257, and id(b) = 136924994565104\n",
            "Value of z = 257, and id(c) = 136924994563568\n"
          ]
        }
      ]
    },
    {
      "cell_type": "markdown",
      "source": [
        "Greenland Shark. Living in the waters of—you guessed it—Greenland, this shark lives for 300 to 500 years. It has the longest known lifespan of any vertebrate species"
      ],
      "metadata": {
        "id": "J85nWkdSYrUq"
      }
    },
    {
      "cell_type": "code",
      "source": [
        "shark1_age = 300\n",
        "shark2_age = 300\n",
        "\n",
        "print(\"Value of shark1_age = \" + str(shark1_age) + \", and id(shark1_age) = \" + str(id(shark1_age)))\n",
        "print(\"Value of shark2_age = \" + str(shark2_age) + \", and id(shark2_age) = \" + str(id(shark2_age)))\n",
        "\n",
        "if(shark1_age == shark2_age): #comparison by value\n",
        "  print(\"shark1_age & shark2_age have same age\")\n",
        "else:\n",
        "  print(\"shark1_age & shark2_age have different age\")\n",
        "\n",
        "shark1_age = 300\n",
        "shark2_age = 300\n",
        "\n",
        "print(\"Value of shark1_age = \" + str(shark1_age) + \", and id(shark1_age) = \" + str(id(shark1_age)))\n",
        "print(\"Value of shark2_age = \" + str(shark2_age) + \", and id(shark2_age) = \" + str(id(shark2_age)))\n",
        "\n",
        "if(shark1_age == shark2_age): #comparison by value\n",
        "  print(\"shark1_age & shark2_age have same age\")\n",
        "else:\n",
        "  print(\"shark1_age & shark2_age have different age\")\n",
        "\n",
        "print(\" ===================== \")\n",
        "\n",
        "if(id(shark1_age) == id(shark2_age)):#comparison by id()\n",
        "  print(\"shark1_age & shark2_age have same id\")\n",
        "else:\n",
        "  print(\"shark1_age & shark2_age have different id\")\n",
        "  print(\"shark1_age & shark2_age have different id\")"
      ],
      "metadata": {
        "colab": {
          "base_uri": "https://localhost:8080/"
        },
        "id": "s-KADwEGYw6f",
        "outputId": "6b09fbd5-1c22-483d-ef4a-cd453110bc2d"
      },
      "execution_count": null,
      "outputs": [
        {
          "output_type": "stream",
          "name": "stdout",
          "text": [
            "Value of shark1_age = 300, and id(shark1_age) = 136924994561936\n",
            "Value of shark2_age = 300, and id(shark2_age) = 136924994565552\n",
            "shark1_age & shark2_age have same age\n",
            "Value of shark1_age = 300, and id(shark1_age) = 136924994564336\n",
            "Value of shark2_age = 300, and id(shark2_age) = 136924994563952\n",
            "shark1_age & shark2_age have same age\n",
            " ===================== \n",
            "shark1_age & shark2_age have different id\n",
            "shark1_age & shark2_age have different id\n"
          ]
        }
      ]
    },
    {
      "cell_type": "markdown",
      "source": [
        "**Type Casting**\n",
        "\n",
        "Type casting is the process of converting a value of one data type to another data type. Python supports several types of type casting, including:\n",
        "\n",
        "**Implicit Type Casting:**\n",
        "\n",
        "\n",
        "1.   Python automatically converts a value of one data type to another data type when necessary. For example, when you add an integer and a float,\n",
        "\n",
        "2.  Python converts the integer to a float.\n",
        "Explicit Type Casting: You can use functions like int(), float(), str(), and bool() to explicitly convert a value of one data type to another data type.\n",
        "\n",
        "\n"
      ],
      "metadata": {
        "id": "SvRB3UoMY4f9"
      }
    },
    {
      "cell_type": "code",
      "source": [
        "i: int = 10\n",
        "print(\"Value of i = \" + str(i) + \",     Type of i = \" + str(type(i)))\n",
        "\n",
        "j: float = 20.6\n",
        "\n",
        "f: float = i + j #Implicit Type Casting\n",
        "print(\"Value of f = \" + str(f) + \",   Type of f = \" + str(type(f)))\n",
        "\n",
        "f1: float = 66.89\n",
        "print(\"Value of f1 = \" + str(f1) + \", Type of i = \" + str(type(f1)))\n",
        "\n",
        "i1: int = int(f1) #When ever you type cast a float value into an integer it truncate\n",
        "             #the decimal part and only keeps the whole number\n",
        "print(\"Value of i1 = \" + str(i1) + \",    Type of i = \" + str(type(i1)))\n",
        "\n",
        "s: str = \"25.8\"\n",
        "f2: float = float(s)\n",
        "print(\"Value of f2 = \" + str(f2) + \",  Type of i = \" + str(type(f2)))\n",
        "\n",
        "#uncomment the below line of code to see error\n",
        "#i2 = int(s) #correct this error by casting with float()\n",
        "#print(\"Value of i2 = \" + str(i2) + \", Type of i = \" + str(type(i2)))\n",
        "\n"
      ],
      "metadata": {
        "colab": {
          "base_uri": "https://localhost:8080/"
        },
        "id": "Z71uFIM7ZMEn",
        "outputId": "830f5eb4-db5a-41c5-ecf8-cac059b8da05"
      },
      "execution_count": null,
      "outputs": [
        {
          "output_type": "stream",
          "name": "stdout",
          "text": [
            "Value of i = 10,     Type of i = <class 'int'>\n",
            "Value of f = 30.6,   Type of f = <class 'float'>\n",
            "Value of f1 = 66.89, Type of i = <class 'float'>\n",
            "Value of i1 = 66,    Type of i = <class 'int'>\n",
            "Value of f2 = 25.8,  Type of i = <class 'float'>\n"
          ]
        }
      ]
    },
    {
      "cell_type": "markdown",
      "source": [
        "**Truthy and Falsy Values in context of boolean data type**\n",
        "-------------------------\n",
        "\n",
        "In Python, some values are considered **truthy**, while others are considered **falsy**. Truthy values are treated as `True` in a boolean context, while falsy values are treated as `False`.\n",
        "\n",
        "Here are some examples of truthy and falsy values:\n",
        "\n",
        "* Truthy values:\n",
        "\t+ Non-zero integers (e.g., `1`, `2`, `-3`, etc.)\n",
        "\t+ Non-empty strings (e.g., `\"hello\"`, `\"world\"`, etc.)\n",
        "\t+ Non-empty lists (e.g., `[1, 2, 3]`, `[\"a\", \"b\", \"c\"]`, etc.)\n",
        "\t+ Non-empty dictionaries (e.g., `{\"a\": 1, \"b\": 2}`, etc.)\n",
        "* Falsy values:\n",
        "\t+ Zero (e.g., `0`)\n",
        "\t+ Empty strings (e.g., `\"\"`)\n",
        "\t+ Empty lists (e.g., `[]`)\n",
        "\t+ Empty dictionaries (e.g., `{}`)\n",
        "\t+ `None`"
      ],
      "metadata": {
        "id": "ZAUoai4iZQJ1"
      }
    },
    {
      "cell_type": "code",
      "source": [
        "k: int = -9 #Any number either positive or negative, beside '0' ZERO is considered True\n",
        "b: bool = bool(k)\n",
        "print(\"Value of b = \" + str(b) + \", Type of b = \" + str(type(b)))\n",
        "\n",
        "print(\"\\n =================== \\n\")\n",
        "\n",
        "if(k):\n",
        "  print(\"\"\"if block: This line of code will execute if we provide any integer value\n",
        "          other then '0' ZERO\"\"\")\n",
        "else:\n",
        "  print(\"else block: As '0' is considered False, so this line of code will not execute\")\n",
        "\n",
        "print(\"\\n =================== \\n\")\n",
        "\n",
        "print(\"check: bool(\\\"55\\\")             = \", bool(\"55\"))\n",
        "print(\"check: bool(\\\"\\\")               = \", bool(\"\"))\n",
        "print(\"check: bool([1, 2, 3])        = \", bool([1, 2, 3]))\n",
        "print(\"check: bool({\\\"key\\\", \\\"value\\\"}) = \", bool({\"key\", \"value\"}))\n",
        "\n",
        "#Note: we will learn about list and dictionary in up comming classes\n",
        "print(\"check: bool([])               = \", bool([])) #[] square brackets used to represent list\n",
        "print(\"check: bool({})               = \", bool({})) #{} curly brackets used to represent dictionary\n"
      ],
      "metadata": {
        "colab": {
          "base_uri": "https://localhost:8080/"
        },
        "id": "KpkxLBZRZVmx",
        "outputId": "e66270e7-8f81-452e-ac4e-69753eac170b"
      },
      "execution_count": null,
      "outputs": [
        {
          "output_type": "stream",
          "name": "stdout",
          "text": [
            "Value of b = True, Type of b = <class 'bool'>\n",
            "\n",
            " =================== \n",
            "\n",
            "if block: This line of code will execute if we provide any integer value\n",
            "          other then '0' ZERO\n",
            "\n",
            " =================== \n",
            "\n",
            "check: bool(\"55\")             =  True\n",
            "check: bool(\"\")               =  False\n",
            "check: bool([1, 2, 3])        =  True\n",
            "check: bool({\"key\", \"value\"}) =  True\n",
            "check: bool([])               =  False\n",
            "check: bool({})               =  False\n"
          ]
        }
      ]
    },
    {
      "cell_type": "markdown",
      "source": [
        "**isinstance() Function in Python**\n",
        "==================================\n",
        "\n",
        "The `isinstance()` function in Python is used to check if an object (first argument) is an instance of a class (second argument). It returns `True` if the object is an instance of the class, and `False` otherwise.\n",
        "\n",
        "**Syntax**\n",
        "---------\n",
        "\n",
        "The syntax of the `isinstance()` function is as follows:\n",
        "```python\n",
        "isinstance(object, classinfo)\n",
        "```\n",
        "Where:\n",
        "\n",
        "* `object` is the object to be checked.\n",
        "* `classinfo` is the class or a tuple of classes to check against.\n"
      ],
      "metadata": {
        "id": "_7zXx61ZZfPK"
      }
    },
    {
      "cell_type": "code",
      "source": [
        "age: int = 20\n",
        "weight: float = 66.89\n",
        "print(\"check: isinstance(age, int)      = \", isinstance(age, int))\n",
        "print(\"check: isinstance(weight, int)   = \", isinstance(weight, int))\n",
        "print(\"check: isinstance(weight, float) = \", isinstance(weight, float))"
      ],
      "metadata": {
        "colab": {
          "base_uri": "https://localhost:8080/"
        },
        "id": "kcxzHXMuZktb",
        "outputId": "e88c6690-b41d-491e-eb36-257603ad146b"
      },
      "execution_count": null,
      "outputs": [
        {
          "output_type": "stream",
          "name": "stdout",
          "text": [
            "check: isinstance(age, int)      =  True\n",
            "check: isinstance(weight, int)   =  False\n",
            "check: isinstance(weight, float) =  True\n"
          ]
        }
      ]
    },
    {
      "cell_type": "markdown",
      "source": [
        "**Made by Anum Saeed**"
      ],
      "metadata": {
        "id": "kgF9xk0ndzhK"
      }
    }
  ]
}